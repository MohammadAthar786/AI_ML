{
  "cells": [
    {
      "cell_type": "markdown",
      "metadata": {},
      "source": [
        "# \ud83e\uddea Classification EDA Master Template\nAdaptable and professional EDA pipeline for real-world classification datasets.\n"
      ]
    },
    {
      "cell_type": "code",
      "execution_count": null,
      "metadata": {},
      "outputs": [],
      "source": [
        "# Step 0: Setup\n",
        "import pandas as pd\n",
        "import numpy as np\n",
        "import seaborn as sns\n",
        "import matplotlib.pyplot as plt\n",
        "import warnings\n",
        "from scipy.stats import iqr\n",
        "\n",
        "warnings.filterwarnings(\"ignore\")\n",
        "sns.set(style=\"whitegrid\")\n",
        "plt.rcParams['figure.figsize'] = (10, 5)\n",
        "\n",
        "# Load Dataset\n",
        "df = sns.load_dataset('titanic')\n",
        "drop_cols = ['deck', 'embark_town', 'class', 'alive', 'who', 'embarked', 'adult_male', 'alone']\n",
        "df.drop(columns=[col for col in drop_cols if col in df.columns], inplace=True)\n",
        "df.head()"
      ]
    },
    {
      "cell_type": "code",
      "execution_count": null,
      "metadata": {},
      "outputs": [],
      "source": [
        "# Step 1: Basic Info\n",
        "def basic_info(df):\n",
        "    print(\"\ud83d\udd39 Shape:\", df.shape)\n",
        "    print(\"\\n\ud83d\udd39 Data Types:\\n\", df.dtypes)\n",
        "    print(\"\\n\ud83d\udd39 Null Values:\\n\", df.isnull().sum())\n",
        "    print(\"\\n\ud83d\udd39 Sample Rows:\\n\", df.head())\n",
        "\n",
        "basic_info(df)"
      ]
    },
    {
      "cell_type": "code",
      "execution_count": null,
      "metadata": {},
      "outputs": [],
      "source": [
        "# Step 2: Target Distribution\n",
        "def plot_target_distribution(df, target):\n",
        "    plt.figure(figsize=(6,4))\n",
        "    sns.countplot(x=target, data=df)\n",
        "    plt.title(f\"Target Distribution: {target}\")\n",
        "    plt.show()\n",
        "\n",
        "plot_target_distribution(df, 'survived')"
      ]
    },
    {
      "cell_type": "code",
      "execution_count": null,
      "metadata": {},
      "outputs": [],
      "source": [
        "# Step 3: Categorical Univariate Analysis\n",
        "def univariate_categorical(df):\n",
        "    cat_cols = df.select_dtypes(include='object').columns\n",
        "    for col in cat_cols:\n",
        "        if df[col].nunique() <= 20:\n",
        "            print(f\"\ud83d\udd39 Value Counts for {col}:\\n\", df[col].value_counts())\n",
        "            sns.countplot(x=col, data=df, order=df[col].value_counts().index)\n",
        "            plt.title(f\"Count Plot - {col}\")\n",
        "            plt.xticks(rotation=45)\n",
        "            plt.show()\n",
        "\n",
        "univariate_categorical(df)"
      ]
    },
    {
      "cell_type": "code",
      "execution_count": null,
      "metadata": {},
      "outputs": [],
      "source": [
        "# Step 4: Numeric Univariate Analysis\n",
        "def optimal_bins(data):\n",
        "    data = data.dropna()\n",
        "    bin_width = 2 * iqr(data) / np.cbrt(len(data))\n",
        "    if bin_width == 0:\n",
        "        return 30\n",
        "    bins = int((data.max() - data.min()) / bin_width)\n",
        "    return max(10, min(bins, 100))\n",
        "\n",
        "def plot_numeric_distribution(df):\n",
        "    num_cols = df.select_dtypes(include=np.number).columns\n",
        "    for col in num_cols:\n",
        "        plt.figure(figsize=(12, 6))\n",
        "        bins = optimal_bins(df[col])\n",
        "        sns.histplot(df[col], kde=True, bins=bins, color='lightblue')\n",
        "        plt.axvline(df[col].mean(), color='blue', linestyle='--', linewidth=2, label='Mean')\n",
        "        plt.axvline(df[col].median(), color='red', linestyle='-', linewidth=2, label='Median')\n",
        "        skew = df[col].skew()\n",
        "        skew_type = 'Right Skewed' if skew > 1 else 'Left Skewed' if skew < -1 else 'Symmetric'\n",
        "        plt.title(f\"Distribution of {col} | Skew: {skew:.2f} ({skew_type})\")\n",
        "        plt.legend()\n",
        "        plt.show()\n",
        "\n",
        "        plt.figure(figsize=(10, 2))\n",
        "        sns.boxplot(x=df[col], color='salmon')\n",
        "        plt.title(f\"Boxplot: {col}\")\n",
        "        plt.show()\n",
        "\n",
        "plot_numeric_distribution(df)"
      ]
    },
    {
      "cell_type": "code",
      "execution_count": null,
      "metadata": {},
      "outputs": [],
      "source": [
        "# Step 5: Categorical vs Target\n",
        "def categorical_vs_target(df, target):\n",
        "    cat_cols = df.select_dtypes(include='object').columns\n",
        "    for col in cat_cols:\n",
        "        if df[col].nunique() <= 20:\n",
        "            sns.countplot(x=col, hue=target, data=df)\n",
        "            plt.title(f\"{col} vs {target}\")\n",
        "            plt.xticks(rotation=45)\n",
        "            plt.legend(title=target)\n",
        "            plt.show()\n",
        "\n",
        "categorical_vs_target(df, 'survived')"
      ]
    },
    {
      "cell_type": "code",
      "execution_count": null,
      "metadata": {},
      "outputs": [],
      "source": [
        "# Step 6: Correlation Heatmap\n",
        "def plot_correlation(df):\n",
        "    num_cols = df.select_dtypes(include=np.number).columns\n",
        "    plt.figure(figsize=(12, 8))\n",
        "    corr = df[num_cols].corr()\n",
        "    sns.heatmap(corr, annot=True, cmap='coolwarm', fmt='.2f', square=True)\n",
        "    plt.title(\"Correlation Heatmap\")\n",
        "    plt.show()\n",
        "\n",
        "plot_correlation(df)"
      ]
    },
    {
      "cell_type": "code",
      "execution_count": null,
      "metadata": {},
      "outputs": [],
      "source": [
        "# Step 7: Missing Values\n",
        "def plot_missing(df):\n",
        "    nulls = df.isnull().sum()\n",
        "    nulls = nulls[nulls > 0].sort_values(ascending=False)\n",
        "    if not nulls.empty:\n",
        "        plt.figure(figsize=(8, 4))\n",
        "        sns.barplot(x=nulls.index, y=nulls.values, palette=\"viridis\")\n",
        "        plt.title(\"Missing Values per Column\")\n",
        "        plt.xticks(rotation=45)\n",
        "        plt.ylabel(\"Missing Count\")\n",
        "        plt.show()\n",
        "    else:\n",
        "        print(\"\u2705 No missing values.\")\n",
        "\n",
        "plot_missing(df)"
      ]
    }
  ],
  "metadata": {
    "kernelspec": {
      "display_name": "Python 3",
      "language": "python",
      "name": "python3"
    },
    "language_info": {
      "name": "python",
      "version": "3.x"
    }
  },
  "nbformat": 4,
  "nbformat_minor": 5
}