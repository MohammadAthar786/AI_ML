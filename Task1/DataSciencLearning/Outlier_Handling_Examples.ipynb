{
 "cells": [
  {
   "cell_type": "markdown",
   "id": "c05b17b4",
   "metadata": {},
   "source": [
    "# Outlier Handling Guide with Examples\n",
    "This notebook demonstrates how to detect and handle outliers using various techniques."
   ]
  },
  {
   "cell_type": "markdown",
   "id": "fc9e309c",
   "metadata": {},
   "source": [
    "## Step 1: Create Sample Dataset"
   ]
  },
  {
   "cell_type": "code",
   "execution_count": null,
   "id": "6f1061ce",
   "metadata": {},
   "outputs": [],
   "source": [
    "import pandas as pd\n",
    "import numpy as np\n",
    "from scipy import stats\n",
    "import seaborn as sns\n",
    "import matplotlib.pyplot as plt\n",
    "\n",
    "# Sample dataset with an outlier\n",
    "df = pd.DataFrame({\n",
    "    'Salary': [30000, 32000, 35000, 37000, 40000, 1000000, 33000, 36000, 34000, 39000]\n",
    "})\n",
    "df"
   ]
  },
  {
   "cell_type": "markdown",
   "id": "23d9f561",
   "metadata": {},
   "source": [
    "## Step 2: Detect Outliers using IQR"
   ]
  },
  {
   "cell_type": "code",
   "execution_count": null,
   "id": "a4b54470",
   "metadata": {},
   "outputs": [],
   "source": [
    "Q1 = df['Salary'].quantile(0.25)\n",
    "Q3 = df['Salary'].quantile(0.75)\n",
    "IQR = Q3 - Q1\n",
    "lower = Q1 - 1.5 * IQR\n",
    "upper = Q3 + 1.5 * IQR\n",
    "\n",
    "outliers = df[(df['Salary'] < lower) | (df['Salary'] > upper)]\n",
    "outliers"
   ]
  },
  {
   "cell_type": "markdown",
   "id": "7c19d6dd",
   "metadata": {},
   "source": [
    "## Step 3: Detect Outliers using Z-Score"
   ]
  },
  {
   "cell_type": "code",
   "execution_count": null,
   "id": "b09fef1c",
   "metadata": {},
   "outputs": [],
   "source": [
    "z_scores = np.abs(stats.zscore(df['Salary']))\n",
    "df[z_scores > 3]"
   ]
  },
  {
   "cell_type": "markdown",
   "id": "7a4dc05e",
   "metadata": {},
   "source": [
    "## Step 4: Visualize Outliers using Boxplot"
   ]
  },
  {
   "cell_type": "code",
   "execution_count": null,
   "id": "ff41b8c0",
   "metadata": {},
   "outputs": [],
   "source": [
    "sns.boxplot(x=df['Salary'])\n",
    "plt.title('Boxplot of Salary')\n",
    "plt.show()"
   ]
  },
  {
   "cell_type": "markdown",
   "id": "3a034398",
   "metadata": {},
   "source": [
    "## Step 5: Remove Outliers using IQR"
   ]
  },
  {
   "cell_type": "code",
   "execution_count": null,
   "id": "703a780e",
   "metadata": {},
   "outputs": [],
   "source": [
    "df_no_outliers = df[(df['Salary'] >= lower) & (df['Salary'] <= upper)]\n",
    "df_no_outliers"
   ]
  },
  {
   "cell_type": "markdown",
   "id": "66ad9bda",
   "metadata": {},
   "source": [
    "## Step 6: Cap/Floor Outliers"
   ]
  },
  {
   "cell_type": "code",
   "execution_count": null,
   "id": "1cab5e31",
   "metadata": {},
   "outputs": [],
   "source": [
    "df_capped = df.copy()\n",
    "df_capped['Salary'] = np.where(df['Salary'] > upper, upper, \n",
    "                                  np.where(df['Salary'] < lower, lower, df['Salary']))\n",
    "df_capped"
   ]
  },
  {
   "cell_type": "markdown",
   "id": "1aa015f1",
   "metadata": {},
   "source": [
    "## Step 7: Apply Log Transformation"
   ]
  },
  {
   "cell_type": "code",
   "execution_count": null,
   "id": "65d45ef8",
   "metadata": {},
   "outputs": [],
   "source": [
    "df['Log_Salary'] = np.log1p(df['Salary'])\n",
    "sns.histplot(df['Log_Salary'], kde=True)\n",
    "plt.title('Log-Transformed Salary')\n",
    "plt.show()\n",
    "df[['Salary', 'Log_Salary']]"
   ]
  },
  {
   "cell_type": "markdown",
   "id": "50ba06d4",
   "metadata": {},
   "source": [
    "## Step 8: Add Outlier Flag"
   ]
  },
  {
   "cell_type": "code",
   "execution_count": null,
   "id": "539d596c",
   "metadata": {},
   "outputs": [],
   "source": [
    "df['is_outlier'] = (df['Salary'] < lower) | (df['Salary'] > upper)\n",
    "df"
   ]
  }
 ],
 "metadata": {},
 "nbformat": 4,
 "nbformat_minor": 5
}
