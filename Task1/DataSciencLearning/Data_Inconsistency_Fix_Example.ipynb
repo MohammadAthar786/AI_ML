{
 "cells": [
  {
   "cell_type": "markdown",
   "id": "c40b09ea",
   "metadata": {},
   "source": [
    "# Data Inconsistency Fix - Example Notebook"
   ]
  },
  {
   "cell_type": "code",
   "execution_count": null,
   "id": "bce55013",
   "metadata": {},
   "outputs": [],
   "source": [
    "import pandas as pd\n",
    "\n",
    "data = {\n",
    "    'Gender': ['Male ', 'FEMALE', 'm', 'F', 'female', 'Male'],\n",
    "    'Date of Joining': ['2021/01/01', '01-02-2021', 'Feb 3 2021', '2021-04-05', '03-05-2021', 'April 6, 2021'],\n",
    "    'Weight': ['70kg', '154lb', '65kg', '160lb', '75', '68kg'],\n",
    "    'Price': ['$1,000', '$2,500', '3000', '$1,200', '$3,400', '2500']\n",
    "}\n",
    "\n",
    "df = pd.DataFrame(data)\n",
    "df"
   ]
  },
  {
   "cell_type": "markdown",
   "id": "ecffda5b",
   "metadata": {},
   "source": [
    "## Step 1: Standardize Gender Column"
   ]
  },
  {
   "cell_type": "code",
   "execution_count": null,
   "id": "34275d21",
   "metadata": {},
   "outputs": [],
   "source": [
    "df['Gender'] = df['Gender'].str.strip().str.lower().replace({'m': 'male', 'f': 'female'})\n",
    "df['Gender']"
   ]
  },
  {
   "cell_type": "markdown",
   "id": "01890cc8",
   "metadata": {},
   "source": [
    "## Step 2: Convert Date of Joining to DateTime"
   ]
  },
  {
   "cell_type": "code",
   "execution_count": null,
   "id": "a5b48e61",
   "metadata": {},
   "outputs": [],
   "source": [
    "df['Date of Joining'] = pd.to_datetime(df['Date of Joining'], errors='coerce')\n",
    "df['Date of Joining']"
   ]
  },
  {
   "cell_type": "markdown",
   "id": "e15e9a44",
   "metadata": {},
   "source": [
    "## Step 3: Convert Weight to Kilograms"
   ]
  },
  {
   "cell_type": "code",
   "execution_count": null,
   "id": "9b4a0bcf",
   "metadata": {},
   "outputs": [],
   "source": [
    "def to_kg(val):\n",
    "    val = str(val).strip().lower()\n",
    "    if 'kg' in val:\n",
    "        return float(val.replace('kg', '').strip())\n",
    "    elif 'lb' in val:\n",
    "        return round(float(val.replace('lb', '').strip()) * 0.453592, 2)\n",
    "    else:\n",
    "        return float(val)\n",
    "\n",
    "df['Weight'] = df['Weight'].apply(to_kg)\n",
    "df['Weight']"
   ]
  },
  {
   "cell_type": "markdown",
   "id": "3ad76acb",
   "metadata": {},
   "source": [
    "## Step 4: Clean Price Column"
   ]
  },
  {
   "cell_type": "code",
   "execution_count": null,
   "id": "90615a96",
   "metadata": {},
   "outputs": [],
   "source": [
    "df['Price'] = df['Price'].str.replace(',', '').str.replace('$', '').astype(float)\n",
    "df['Price']"
   ]
  },
  {
   "cell_type": "markdown",
   "id": "a397b729",
   "metadata": {},
   "source": [
    "## Final Cleaned DataFrame"
   ]
  },
  {
   "cell_type": "code",
   "execution_count": null,
   "id": "f2bdcdb7",
   "metadata": {},
   "outputs": [],
   "source": [
    "df"
   ]
  }
 ],
 "metadata": {},
 "nbformat": 4,
 "nbformat_minor": 5
}
